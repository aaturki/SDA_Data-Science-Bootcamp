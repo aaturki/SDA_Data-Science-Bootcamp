{
 "cells": [
  {
   "cell_type": "markdown",
   "id": "cd9cf880",
   "metadata": {},
   "source": [
    "## Challenge - OrangeTree\n",
    "\n",
    "### Background and Objectives\n",
    "Let’s create an `OrangeTree` class which models the life of an orange tree (its birth, life cycle and death). Our class should include the following attributes: `age`, `height`, `fruits` (all integers), and `dead` (a boolean).\n",
    "\n",
    "To simulate time passing, you will need to implement the following instance methods:\n",
    "- `one_year_passes`\n",
    "- `pick_a_fruit`\n",
    "\n",
    "Example method skeleton:\n",
    "```python\n",
    "def one_year_passes(self):\n",
    "    # TODO: age the tree by one year\n",
    "    # TODO: check if the tree has survived\n",
    "    # TODO: if so, make the tree height grow\n",
    "    # TODO: if so, make the tree grow fruits\n",
    "```\n",
    "\n",
    "---\n",
    "\n",
    "### Specs\n",
    "- Each year, the tree should age by 1 year (it becomes older and taller, and eventually dies).\n",
    "- A tree grows 1 meter per year up to and including the 10th year. Then it stops growing.\n",
    "- The orange tree cannot die until it reaches 50 years old.\n",
    "- After 50 years, the probability of dying increases each year (Python’s `random` library might come in handy 😉).\n",
    "- No tree can live more than 100 years.\n",
    "- A tree will produce 100 fruits a year once it is more than 5 years old.\n",
    "- A tree will produce 200 fruits a year when it reaches 10 years old.\n",
    "- A tree will not produce fruits once it reaches 15 years old.\n",
    "- You should be able to pick a single fruit from the tree by calling the `pick_a_fruit` method on your tree (but only if there are some left).\n",
    "- At the end of each year, the fruits which have not been picked will fall off.\n",
    "\n"
   ]
  },
  {
   "cell_type": "code",
   "execution_count": 2,
   "id": "orange-tree",
   "metadata": {},
   "outputs": [],
   "source": [
    "import random\n",
    "\n",
    "class OrangeTree:\n",
    "    def __init__(self):\n",
    "        self.age = 0\n",
    "        self.height = 0\n",
    "        self.dead = False\n",
    "        self.fruits = 0\n",
    "\n",
    "    def one_year_passes(self):\n",
    "        if not self.dead:\n",
    "            self.age += 1\n",
    "            self.grow_height()\n",
    "            self.grow_fruits()\n",
    "            self.check_if_dead()\n",
    "\n",
    "    def grow_height(self):\n",
    "        if self.age <= 10:\n",
    "            self.height += 1\n",
    "\n",
    "    def grow_fruits(self):\n",
    "        self.fruits = 0\n",
    "        if 5 < self.age < 10:\n",
    "            self.fruits = 100\n",
    "        elif 10 <= self.age < 15:\n",
    "            self.fruits = 200\n",
    "\n",
    "    def check_if_dead(self):\n",
    "        if self.age > 50:\n",
    "            self.dead = self.age > random.randint(50, 101)\n",
    "\n",
    "    def pick_a_fruit(self):\n",
    "        if self.fruits > 0:\n",
    "            self.fruits -= 1"
   ]
  }
 ],
 "metadata": {
  "kernelspec": {
   "display_name": "base",
   "language": "python",
   "name": "python3"
  },
  "language_info": {
   "codemirror_mode": {
    "name": "ipython",
    "version": 3
   },
   "file_extension": ".py",
   "mimetype": "text/x-python",
   "name": "python",
   "nbconvert_exporter": "python",
   "pygments_lexer": "ipython3",
   "version": "3.12.2"
  }
 },
 "nbformat": 4,
 "nbformat_minor": 5
}
