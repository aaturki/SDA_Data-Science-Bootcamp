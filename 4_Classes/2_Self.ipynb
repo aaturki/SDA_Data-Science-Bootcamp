{
 "cells": [
  {
   "cell_type": "markdown",
   "id": "b46f757a",
   "metadata": {},
   "source": [
    "## Challenge - Understanding `self`\n",
    "\n",
    "### Background & Objectives\n",
    "`self` is an important concept to understand when working with classes. By using the `self` keyword we can access the attributes and methods of the class in Python. It represents the instance of the class that is passing through our methods.\n",
    "\n",
    "Here we have an incorrectly constructed `Cat` class with three different methods which are being used to update an instance’s attributes:\n",
    "- `age_10_years`\n",
    "- `gain_weight`\n",
    "- `turn_grey`\n",
    "\n",
    "---\n",
    "\n",
    "### Specs\n",
    "- Get the winning combination.\n",
    "- Update the `Cat` class by placing the `self` keyword where needed.\n",
    "- No new methods are needed.\n",
    "- The class is correct when you run the file and see the following printed in the terminal:\n",
    "  - \"My 1 year old cat weighs 5 pounds and is brown.  Come back in a few years and see how he is doing\"\n",
    "  - --------------------10 years later----------------------\n",
    "  - \"My 10 year old cat now weighs 20 pounds and is grey \"\n",
    "\n",
    "Hint: Notice that the instance methods are being chained on line 22 🤔. Chaining will be an important part of our machine learning pipelines in the future. An article on method chaining may help.\n"
   ]
  },
  {
   "cell_type": "code",
   "execution_count": null,
   "id": "self",
   "metadata": {},
   "outputs": [],
   "source": [
    "# Content from 2_Self.py will go here"
   ]
  }
 ],
 "metadata": {
  "kernelspec": {
   "display_name": "base",
   "language": "python",
   "name": "python3"
  },
  "language_info": {
   "codemirror_mode": {
    "name": "ipython",
    "version": 3
   },
   "file_extension": ".py",
   "mimetype": "text/x-python",
   "name": "python",
   "nbconvert_exporter": "python",
   "pygments_lexer": "ipython3",
   "version": "3.12.3"
  }
 },
 "nbformat": 4,
 "nbformat_minor": 5
}
