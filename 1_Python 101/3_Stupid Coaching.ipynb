{
 "cells": [
  {
   "cell_type": "markdown",
   "id": "challenge-description",
   "metadata": {},
   "source": [
    "# Challenge - Stupid Coaching\n",
    "\n",
    "## Background and Objectives\n",
    "A more advanced challenge now where you will have to use notions that we haven't covered yet (conditional and looping structures). Don't panic, we'll see these concepts tomorrow. Try to go step-by-step and ask yourself what you are trying to accomplish in your program before writing some code.\n",
    "\n",
    "In this exercise, we will create your own personal coach.\n",
    "Unfortunately though, the coach is a little stupid and can only exhibit the following behavior:\n",
    "\n",
    "- If you don't ask them something, but just tell them something (e.g. \"I met a girl last night\"), they will just answer back \"I don't care, get dressed and go to work!\"\n",
    "- If you ask them something (e.g. \"Can I eat some pizza?\"), they won't be of much help either and they will tell you \"Silly question, get dressed and go to work!\"\n",
    "- The only way to get rid of them is to tell them what they wants to hear: \"I am going to work right now!\".\n",
    "\n",
    "Let's make a comparison between the real world and the code world on this exercise.\n",
    "\n",
    "The objectives of this challenge are:\n",
    "- Understand the flow of a program and learn how to \"read\" through your code, line by line\n",
    "- Learn about conditional statements\n",
    "- Learn about coding structures that modify your program flow\n",
    "\n",
    "## Specs\n",
    "\n",
    "### Coach answer\n",
    "Define the `coach_answer` function on line 2 in the code editor.\n",
    "\n",
    "- It should take one argument, `your_message` which is the sentence you tell the coach.\n",
    "- The function should return a str (i.e., the coach's answer) which will obviously depend on which value is passed in `your_message`.\n",
    "- The function should not return anything if you tell the coach what they want to hear\n",
    "\n",
    "### Enhanced version\n",
    "Now let's implement an enhanced version. Define the function `coach_answer_enhanced` on line 13. If you SHOUT at your coach, they will like it, and will say: \"I can feel your motivation!\" before the regular answer (from the non-enhanced version). Remember that shouting on the Internet is done by writing in CAPS LOCK! However, if you shout \"I AM GOING TO WORK RIGHT NOW!\", your coach will leave you alone.\n",
    "\n",
    "## Key Learning Points\n",
    "\n",
    "- **What's the usual flow of a program?**\n",
    "- **How do structures like if..else change this flow?**\n",
    "- **How do these structures work?**\n",
    "- **What's a conditional statement? Which values can it take? What's the difference between = and ==?**\n",
    "- **Does a simple function call change the flow of your program?**"
   ]
  },
  {
   "cell_type": "code",
   "execution_count": 1,
   "id": "stupid-coaching",
   "metadata": {},
   "outputs": [],
   "source": [
    "# Implement your coach_answer method below:\n",
    "def coach_answer(your_message):\n",
    "    if your_message == \"I am going to work right now!\":\n",
    "        return \"\"\n",
    "    if your_message.endswith(\"?\"):\n",
    "        return \"Silly question, get dressed and go to work!\"\n",
    "    return \"I don't care, get dressed and go to work!\"\n",
    "\n",
    "\n",
    "\n",
    "# Implement your coach_answer_enhanced below:\n",
    "def coach_answer_enhanced(your_message):\n",
    "    if your_message == \"I AM GOING TO WORK RIGHT NOW!\":\n",
    "        return \"\"\n",
    "    if your_message.isupper():\n",
    "        return \"I can feel your motivation! \" + coach_answer(your_message)\n",
    "    return coach_answer(your_message)"
   ]
  }
 ],
 "metadata": {
  "kernelspec": {
   "display_name": "base",
   "language": "python",
   "name": "python3"
  },
  "language_info": {
   "codemirror_mode": {
    "name": "ipython",
    "version": 3
   },
   "file_extension": ".py",
   "mimetype": "text/x-python",
   "name": "python",
   "nbconvert_exporter": "python",
   "pygments_lexer": "ipython3",
   "version": "3.12.2"
  }
 },
 "nbformat": 4,
 "nbformat_minor": 5
}
