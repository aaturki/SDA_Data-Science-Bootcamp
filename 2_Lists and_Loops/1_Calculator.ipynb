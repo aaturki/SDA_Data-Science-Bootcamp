{
 "cells": [
  {
   "cell_type": "markdown",
   "id": "0f29d51d",
   "metadata": {},
   "source": [
    "## Background and objectives\n",
    "\n",
    "Quite often our programs will need to accept inputs from a user, whether through terminal commands, API requests, or form submissions. In these cases inputs are processed as a `str` data type. Let’s practice type conversion by building a `simple_calculator` function.\n",
    "\n",
    "---\n",
    "\n",
    "## Specs\n",
    "\n",
    "- **Input format**: Our function should take a single `list` of strings as an argument, containing our first operand, followed by an operator and then the 2nd operand. Example:\n",
    "```python\n",
    "simple_calculator(['1', '+', '1'])  # => 2\n",
    "```\n",
    "- **Invalid format**: The function should return `'Please enter valid format: [Operand, Operator, Operand]'` for arguments that don’t match the required format.\n",
    "- **Supported operators**: The function should work with the following simple operators `+, -, *, /, %`, and should return `'Please enter a valid operator [ +, -, /, *, % ]'` if any other operators are passed.\n",
    "- **Assumptions**: Assume that the operands are always numeric (floats or integers); no need to validate their data type.\n"
   ]
  },
  {
   "cell_type": "markdown",
   "id": "785d138d",
   "metadata": {},
   "source": []
  },
  {
   "cell_type": "code",
   "execution_count": 6,
   "id": "4850b775",
   "metadata": {},
   "outputs": [],
   "source": [
    "# Implement your simple_calculator function below\n",
    "def simple_calculator(arguments):\n",
    "    if len(arguments) != 3:\n",
    "        return 'Please enter valid format: [Operand, Operator, Operand]'\n",
    "    \n",
    "    operand1_str, operator, operand2_str = arguments\n",
    "    valid_operators = ['+', '-', '*', '/', '%']\n",
    "    \n",
    "    if operator not in valid_operators:\n",
    "        return 'Please enter a valid operator [ +, -, /, *, % ]'\n",
    "    \n",
    "    operand1 = float(operand1_str)\n",
    "    operand2 = float(operand2_str)\n",
    "    \n",
    "    if operator == '+':\n",
    "        return operand1 + operand2\n",
    "    elif operator == '-':\n",
    "        return operand1 - operand2\n",
    "    elif operator == '*':\n",
    "        return operand1 * operand2\n",
    "    elif operator == '/':\n",
    "        return operand1 / operand2\n",
    "    elif operator == '%':\n",
    "        return operand1 % operand2"
   ]
  }
 ],
 "metadata": {
  "kernelspec": {
   "display_name": "base",
   "language": "python",
   "name": "python3"
  },
  "language_info": {
   "codemirror_mode": {
    "name": "ipython",
    "version": 3
   },
   "file_extension": ".py",
   "mimetype": "text/x-python",
   "name": "python",
   "nbconvert_exporter": "python",
   "pygments_lexer": "ipython3",
   "version": "3.12.2"
  }
 },
 "nbformat": 4,
 "nbformat_minor": 5
}
