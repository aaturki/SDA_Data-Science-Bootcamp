{
 "cells": [
  {
   "cell_type": "markdown",
   "id": "3aa2b48c",
   "metadata": {},
   "source": [
    "## Challenge - Roman Numerals\n",
    "\n",
    "### Background and Objectives\n",
    "Let’s use dictionaries to help us quickly convert Roman numerals to integers. Take a look at a Roman numerals table to brush up. Do you notice any patterns we could take advantage of?\n",
    "\n",
    "---\n",
    "\n",
    "### Specs\n",
    "Write a function `roman_to_int`. It should take one argument, a string, and convert it into its corresponding integer. For example:\n",
    "\n",
    "```python\n",
    "roman_to_int('IV')   # => 4\n",
    "roman_to_int('XVI')  # => 16\n",
    "roman_to_int('MI')   # => 1001\n",
    "```\n",
    "\n",
    "Hint: you might consider including 4/40/400 and 9/90/900 in your dictionary 😉\n",
    "\n"
   ]
  },
  {
   "cell_type": "code",
   "execution_count": null,
   "id": "roman-numerals",
   "metadata": {},
   "outputs": [],
   "source": [
    "def roman_to_int(s: str) -> int:\n",
    "    roman_dict = {\n",
    "        \"I\": 1, \"V\": 5, \"X\": 10,\n",
    "        \"L\": 50, \"C\": 100, \"D\": 500, \"M\": 1000\n",
    "    }\n",
    "    \n",
    "    total = 0\n",
    "    prev_val = 0\n",
    "    \n",
    "    for char in s:\n",
    "        current_val = roman_dict[char]\n",
    "        total += current_val\n",
    "        if current_val > prev_val:  \n",
    "            total -= 2 * prev_val\n",
    "        prev_val = current_val\n",
    "    \n",
    "    return total\n"
   ]
  }
 ],
 "metadata": {
  "kernelspec": {
   "display_name": "base",
   "language": "python",
   "name": "python3"
  },
  "language_info": {
   "codemirror_mode": {
    "name": "ipython",
    "version": 3
   },
   "file_extension": ".py",
   "mimetype": "text/x-python",
   "name": "python",
   "nbconvert_exporter": "python",
   "pygments_lexer": "ipython3",
   "version": "3.12.2"
  }
 },
 "nbformat": 4,
 "nbformat_minor": 5
}
