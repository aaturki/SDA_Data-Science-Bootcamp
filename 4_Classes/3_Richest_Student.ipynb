{
 "cells": [
  {
   "cell_type": "markdown",
   "id": "cd846004",
   "metadata": {},
   "source": [
    "## Challenge - Richest Student\n",
    "\n",
    "### Background & Objectives\n",
    "Suppose you have students (defined by the class `Student`) who each have an amount of money (in bills of five, ten and twenty euro). We want to be able to compare them based on their wealth. Let’s create a class `Student` which will store all their information and help with comparing.\n",
    "\n",
    "---\n",
    "\n",
    "### Specs\n",
    "- When initializing a `Student`, require 4 additional arguments: the student’s name and the number of bills they own (`fives`, `tens`, and `twenties`).\n",
    "- Implement a `wealth` method on `Student`. When called, it should return the total wealth of the student.\n",
    "- Implement a `compare` method which takes one argument, another student, and returns the name of the richer student.\n",
    "\n",
    "### Optional\n",
    "- Implement an `advanced_compare` method which takes one argument, a list of students. When called, it should return a list of all the students’ names sorted from most wealthy to least wealthy — don’t forget to include the student instance the method was called on in the sort 😉\n",
    "\n",
    "Hint: A stable key-based sort or custom comparator pattern can help here.\n",
    "\n",
    "\n"
   ]
  },
  {
   "cell_type": "code",
   "execution_count": 2,
   "id": "richest-student",
   "metadata": {},
   "outputs": [],
   "source": [
    "class Student:\n",
    "    def __init__(self, name, fives, tens, twenties):\n",
    "        self.name = name\n",
    "        self.fives = fives\n",
    "        self.tens = tens\n",
    "        self.twenties = twenties\n",
    "\n",
    "    def wealth(self):\n",
    "        return self.fives * 5 + self.tens * 10 + self.twenties * 20\n",
    "\n",
    "    def compare(self, student):\n",
    "        if self.wealth() > student.wealth():\n",
    "            return self.name\n",
    "        elif student.wealth() > self.wealth():\n",
    "            return student.name\n",
    "        else:\n",
    "            return \"Students have the same amount of money\"\n",
    "\n",
    "    def advanced_compare(self, student_list):\n",
    "        student_wealth = {stud.name: stud.wealth() for stud in student_list}\n",
    "        student_wealth[self.name] = self.wealth()\n",
    "        return sorted(student_wealth, key=student_wealth.get, reverse=True)\n"
   ]
  },
  {
   "cell_type": "code",
   "execution_count": null,
   "id": "04908e5b",
   "metadata": {},
   "outputs": [],
   "source": []
  }
 ],
 "metadata": {
  "kernelspec": {
   "display_name": "base",
   "language": "python",
   "name": "python3"
  },
  "language_info": {
   "codemirror_mode": {
    "name": "ipython",
    "version": 3
   },
   "file_extension": ".py",
   "mimetype": "text/x-python",
   "name": "python",
   "nbconvert_exporter": "python",
   "pygments_lexer": "ipython3",
   "version": "3.12.2"
  }
 },
 "nbformat": 4,
 "nbformat_minor": 5
}
