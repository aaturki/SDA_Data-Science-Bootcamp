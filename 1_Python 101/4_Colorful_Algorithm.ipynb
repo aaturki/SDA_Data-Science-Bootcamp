
## Background and Objectives
We can break a number into different contiguous subsequence parts. For example, the number 324 can be broken into parts like \(3\), \(2\), \(4\), \(32\), \(24\), \(324\).

A colorful number is a number where the products of all the subsets of the digits are different. For example:

- 263 is a colorful number: the products \(\{2, 6, 3, 2\times6, 6\times3, 2\times6\times3\}\) are all different.
- 236 is not colorful: the products \(\{2, 3, 6, 2\times3, 3\times6, 2\times3\times6\}\) contain \(6\) twice (\(6\) and \(2\times3\)).

## Specs
Write a function `is_colorful` which takes a single number as an argument and returns `True` if the number is colorful, `False` otherwise.

For this exercise, only consider numbers with up to 3 digits (not more). Examples:

```python  
is_colorful(263)  # => True  
is_colorful(236)  # => False  
