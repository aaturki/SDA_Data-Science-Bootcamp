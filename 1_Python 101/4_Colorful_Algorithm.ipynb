{
 "cells": [
  {
   "cell_type": "markdown",
   "id": "challenge-description",
   "metadata": {},
   "source": [
    "\n",
    "## Background and Objectives\n",
    "We can break a number into different contiguous subsequence parts. For example, the number 324 can be broken into parts like \\(3\\), \\(2\\), \\(4\\), \\(32\\), \\(24\\), \\(324\\).\n",
    "\n",
    "A colorful number is a number where the products of all the subsets of the digits are different. For example:\n",
    "\n",
    "- 263 is a colorful number: the products \\(\\{2, 6, 3, 2\\times6, 6\\times3, 2\\times6\\times3\\}\\) are all different.\n",
    "- 236 is not colorful: the products \\(\\{2, 3, 6, 2\\times3, 3\\times6, 2\\times3\\times6\\}\\) contain \\(6\\) twice (\\(6\\) and \\(2\\times3\\)).\n",
    "\n",
    "## Specs\n",
    "Write a function `is_colorful` which takes a single number as an argument and returns `True` if the number is colorful, `False` otherwise.\n",
    "\n",
    "For this exercise, only consider numbers with up to 3 digits (not more). Examples:\n",
    "\n",
    "```python  \n",
    "is_colorful(263)  # => True  \n",
    "is_colorful(236)  # => False  "
   ]
  },
  {
   "cell_type": "code",
   "execution_count": 1,
   "id": "485edee6",
   "metadata": {},
   "outputs": [],
   "source": [
    "def is_colorful(num):\n",
    "    digits = [int(d) for d in str(num)]\n",
    "    products = set()\n",
    "\n",
    "    for start in range(len(digits)):\n",
    "        product = 1\n",
    "        for end in range(start, len(digits)):\n",
    "            product *= digits[end]\n",
    "            if product in products:  \n",
    "                return False\n",
    "            products.add(product)\n",
    "    return True"
   ]
  }
 ],
 "metadata": {
  "kernelspec": {
   "display_name": "base",
   "language": "python",
   "name": "python3"
  },
  "language_info": {
   "codemirror_mode": {
    "name": "ipython",
    "version": 3
   },
   "file_extension": ".py",
   "mimetype": "text/x-python",
   "name": "python",
   "nbconvert_exporter": "python",
   "pygments_lexer": "ipython3",
   "version": "3.12.2"
  }
 },
 "nbformat": 4,
 "nbformat_minor": 5
}
