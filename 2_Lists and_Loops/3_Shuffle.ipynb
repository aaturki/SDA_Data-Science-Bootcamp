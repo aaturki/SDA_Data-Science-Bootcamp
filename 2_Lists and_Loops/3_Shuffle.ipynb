{
 "cells": [
  {
   "cell_type": "markdown",
   "id": "bdfc1228",
   "metadata": {},
   "source": [
    "## Background & Objectives\n",
    "Thanks to Python’s built-in `random` library we have access to a `shuffle` method, which when called on a list returns a shuffled version of that list. In this advanced exercise, let’s try to code a shuffle function ourselves from scratch.\n",
    "\n",
    "---\n",
    "\n",
    "## Specs\n",
    "Code a `manual_shuffle` function:\n",
    "\n",
    "- The function should take one argument, a list, and return a new list with all the items of your original list in a new, randomized order.\n",
    "- Do NOT use any built-in list methods to manipulate the order such as `sort()`.\n",
    "- Do NOT use the built-in `shuffle` method in Python’s `random` library (let’s do it the hard way). But you might find some other helpful methods in there; we imported the `random` library for you at the top of the file 😉\n",
    "- Hint: You should not make changes to the original list. The `copy` method will come in handy. One approach could be to create a new empty array B, and until A is empty, randomly select an index in A, append the element in A at that index into B, then delete that index in A. Proceed until A is empty. B should contain the new shuffled array!\n",
    "\n",
    "\n"
   ]
  },
  {
   "cell_type": "code",
   "execution_count": 2,
   "id": "shuffle",
   "metadata": {},
   "outputs": [],
   "source": [
    "def manual_shuffle(items):\n",
    "    result = []\n",
    "    pool = items.copy()\n",
    "    while pool:\n",
    "        idx = random.randint(0, len(pool) - 1)\n",
    "        result.append(pool.pop(idx))\n",
    "    return result"
   ]
  },
  {
   "cell_type": "code",
   "execution_count": null,
   "id": "14a5f6b6",
   "metadata": {},
   "outputs": [],
   "source": []
  }
 ],
 "metadata": {
  "kernelspec": {
   "display_name": "base",
   "language": "python",
   "name": "python3"
  },
  "language_info": {
   "codemirror_mode": {
    "name": "ipython",
    "version": 3
   },
   "file_extension": ".py",
   "mimetype": "text/x-python",
   "name": "python",
   "nbconvert_exporter": "python",
   "pygments_lexer": "ipython3",
   "version": "3.12.2"
  }
 },
 "nbformat": 4,
 "nbformat_minor": 5
}
