{
 "cells": [
  {
   "cell_type": "markdown",
   "id": "eba131f5",
   "metadata": {},
   "source": [
    "## Challenge - Simple Burger (Calories Counter)\n",
    "\n",
    "### Background & Objectives\n",
    "Let’s say you want to stay fit but keep eating McDonalds… You have the brilliant idea to write a quick function that computes the number of calories in your McDonalds order. We’ll use the table below as our abridged McDonalds menu:\n",
    "\n",
    "| Item | Calories |\n",
    "|---|---|\n",
    "| Hamburger | 250 |\n",
    "| Cheese Burger | 300 |\n",
    "| Big Mac | 540 |\n",
    "| McChicken | 350 |\n",
    "| French Fries | 230 |\n",
    "| Salad | 15 |\n",
    "| Coca Cola | 150 |\n",
    "| Sprite | 150 |\n",
    "\n",
    "You need to store this information in a Python constant to create a kind of database. For this challenge we will declare our constant directly in the program file we are working with, instead of importing it.\n",
    "\n",
    "For instance, below is an example of a `dict` saved to a constant — `AGE_OF_STUDENTS` — that contains students and their ages:\n",
    "\n",
    "```python\n",
    "AGE_OF_STUDENTS = {\n",
    "  \"Peter\": 21,\n",
    "  \"George\": 22,\n",
    "  \"Mary\": 20\n",
    "}\n",
    "```\n",
    "\n",
    "Don’t forget to read the documentation about dicts. You’ll use them all the time, so make friends with them 😊\n",
    "\n",
    "---\n",
    "\n",
    "### Specs\n",
    "Create a `poor_calories_counter` function which takes three string arguments and returns the total number of calories for the three items of your order.\n",
    "\n",
    "- Your function should make use of a Dictionary (obviously!).\n",
    "- Your function must use our given calorie values! Eg:\n",
    "```python\n",
    "poor_calories_counter(\"McChicken\", \"French Fries\", \"Sprite\")\n",
    "# => 730\n",
    "```\n",
    "- Your function should return `\"item_name not found\"` if an item is not in the dictionary. Eg:\n",
    "```python\n",
    "poor_calories_counter(\"Big Mac\", \"Salad\", \"Shrimp Po Boy\")\n",
    "# => \"Shrimp Po Boy not found\"\n",
    "```\n",
    "\n",
    "### Key learning points\n",
    "- What’s a Dict? When do you use them?\n",
    "- How do you retrieve a value stored in a Dict?\n",
    "\n"
   ]
  },
  {
   "cell_type": "code",
   "execution_count": 2,
   "id": "simple-burger",
   "metadata": {},
   "outputs": [],
   "source": [
    "DISHES_CALORIES = {\n",
    "    \"Hamburger\": 250,\n",
    "    \"Cheese Burger\": 300,\n",
    "    \"Big Mac\": 540,\n",
    "    \"McChicken\": 350,\n",
    "    \"French Fries\": 230,\n",
    "    \"Salad\": 15,\n",
    "    \"Coca Cola\": 150,\n",
    "    \"Sprite\": 150\n",
    "}\n",
    "\n",
    "def poor_calories_counter(*dishes):\n",
    "    total = 0\n",
    "    for dish in dishes:\n",
    "        if dish not in DISHES_CALORIES:\n",
    "            return f\"{dish} not found\"\n",
    "        total += DISHES_CALORIES[dish]\n",
    "    return total\n"
   ]
  },
  {
   "cell_type": "code",
   "execution_count": null,
   "id": "cbe24891",
   "metadata": {},
   "outputs": [],
   "source": []
  }
 ],
 "metadata": {
  "kernelspec": {
   "display_name": "base",
   "language": "python",
   "name": "python3"
  },
  "language_info": {
   "codemirror_mode": {
    "name": "ipython",
    "version": 3
   },
   "file_extension": ".py",
   "mimetype": "text/x-python",
   "name": "python",
   "nbconvert_exporter": "python",
   "pygments_lexer": "ipython3",
   "version": "3.12.2"
  }
 },
 "nbformat": 4,
 "nbformat_minor": 5
}
