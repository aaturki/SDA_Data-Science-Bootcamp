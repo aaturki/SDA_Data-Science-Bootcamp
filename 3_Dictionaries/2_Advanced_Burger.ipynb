{
 "cells": [
  {
   "cell_type": "markdown",
   "id": "83560bff",
   "metadata": {},
   "source": [
    "### Background & Objectives\n",
    "Now, let’s say you want to improve your calorie counter so it can accept a list of drinks, burgers, sides, and MEALS. Let’s add these 3 meals to our menu:\n",
    "\n",
    "| Meal | Items in Meal |\n",
    "|---|---|\n",
    "| Happy Meal | Cheese Burger, French Fries, Coca Cola |\n",
    "| Best Of Big Mac | Big Mac, French Fries, Coca Cola |\n",
    "| Best Of McChicken | McChicken, Salad, Sprite |\n",
    "\n",
    "You may want to store these meals in another constant. Note: don’t try to pre-compute the calories for each meal, just store the dishes that make up the meal. How could you represent the dishes in each meal?\n",
    "\n",
    "Let’s now create an `advanced_calories_counter` function that will enable us to calculate calories of a combination of both our meals and our individual dishes.\n",
    "\n",
    "---\n",
    "\n",
    "### Specs\n",
    "- Our function should take a list of any size containing meals and individual dish items, e.g.:\n",
    "```python\n",
    "orders = [\"French Fries\", \"Happy Meal\", \"Sprite\", \"Best Of McChicken\"]\n",
    "advanced_calories_counter(orders)\n",
    "# => 1575\n",
    "```\n",
    "- Our function should still return `'item_name not found'` if the dish is not available.\n",
    "\n",
    "---\n",
    "\n",
    "### Quiz yourself 🤔\n",
    "- How do you retrieve a value stored in list within a dictionary?\n",
    "- Which data structure would you use to store animal names, alphabetically sorted?\n",
    "- Which data structure would you use to store animal names and their colors?\n",
    "\n"
   ]
  },
  {
   "cell_type": "code",
   "execution_count": 1,
   "id": "advanced-burger",
   "metadata": {},
   "outputs": [],
   "source": [
    "mcdo = {\n",
    "    \"Hamburger\": 250,\n",
    "    \"Cheese Burger\": 300,\n",
    "    \"Big Mac\": 540,\n",
    "    \"McChicken\": 350,\n",
    "    \"French Fries\": 230,\n",
    "    \"Salad\": 15,\n",
    "    \"Coca Cola\": 150,\n",
    "    \"Sprite\": 150\n",
    "}\n",
    "\n",
    "mcdo2 = {\n",
    "    \"Happy Meal\": [\"Cheese Burger\", \"French Fries\", \"Coca Cola\"],\n",
    "    \"Best Of Big Mac\": [\"Big Mac\", \"French Fries\", \"Coca Cola\"],\n",
    "    \"Best Of McChicken\": [\"McChicken\", \"Salad\", \"Sprite\"]\n",
    "}\n",
    "\n",
    "def advanced_calories_counter(order):\n",
    "    total = 0\n",
    "    for dish in order:\n",
    "        if dish in mcdo:\n",
    "            total += mcdo[dish]\n",
    "        elif dish in mcdo2:\n",
    "            for item in mcdo2[dish]:\n",
    "                if item not in mcdo:\n",
    "                    return f\"{item} not found\"\n",
    "                total += mcdo[item]\n",
    "        else:\n",
    "            return f\"{dish} not found\"\n",
    "    return total\n"
   ]
  }
 ],
 "metadata": {
  "kernelspec": {
   "display_name": "base",
   "language": "python",
   "name": "python3"
  },
  "language_info": {
   "codemirror_mode": {
    "name": "ipython",
    "version": 3
   },
   "file_extension": ".py",
   "mimetype": "text/x-python",
   "name": "python",
   "nbconvert_exporter": "python",
   "pygments_lexer": "ipython3",
   "version": "3.12.2"
  }
 },
 "nbformat": 4,
 "nbformat_minor": 5
}
