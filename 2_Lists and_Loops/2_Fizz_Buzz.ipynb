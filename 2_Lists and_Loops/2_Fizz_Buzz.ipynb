{
 "cells": [
  {
   "cell_type": "markdown",
   "id": "7a4cc4db",
   "metadata": {},
   "source": [
    "## Challenge - Fizz Buzz\n",
    "\n",
    "### Background & Objectives\n",
    "When recruiting developers for your team, you often interview people who struggle with basic code. There is a famous article talking about “Why can’t programmers…program?” where it discusses the classic “FizzBuzz” problem.\n",
    "\n",
    "Let’s work on this basic program and make sure that we can do it 😊\n",
    "\n",
    "---\n",
    "\n",
    "### Specs\n",
    "Write a function `fizz_buzz` which takes a single number as an argument, and returns a list of numbers from 1 to that number, but replaces some of them according to these rules:\n",
    "\n",
    "- If the number is divisible by 3, replace it with `'Fizz'`.\n",
    "- If the number is divisible by 5, replace it with `'Buzz'`.\n",
    "- If the number is divisible by both 3 and 5, replace it with `'FizzBuzz'`.\n",
    "\n",
    "Example:\n",
    "```python\n",
    "fizz_buzz(7)\n",
    "# => [1, 2, 'Fizz', 4, 'Buzz', 'Fizz', 7]\n",
    "```\n"
   ]
  },
  {
   "cell_type": "code",
   "execution_count": 3,
   "id": "0de68f8f",
   "metadata": {},
   "outputs": [
    {
     "name": "stdout",
     "output_type": "stream",
     "text": [
      "[1, 2, 'Fizz', 4, 'Buzz', 'Fizz', 7, 8, 'Fizz', 'Buzz', 11, 'Fizz', 13, 14]\n"
     ]
    }
   ],
   "source": [
    "def fizz_buzz(n):\n",
    "    return [\n",
    "        'FizzBuzz' if i % 3 == 0 and i % 5 == 0\n",
    "        else 'Fizz' if i % 3 == 0\n",
    "        else 'Buzz' if i % 5 == 0\n",
    "        else i\n",
    "        for i in range(1, n + 1)\n",
    "    ]\n",
    "print(fizz_buzz(14))\n"
   ]
  }
 ],
 "metadata": {
  "kernelspec": {
   "display_name": "base",
   "language": "python",
   "name": "python3"
  },
  "language_info": {
   "codemirror_mode": {
    "name": "ipython",
    "version": 3
   },
   "file_extension": ".py",
   "mimetype": "text/x-python",
   "name": "python",
   "nbconvert_exporter": "python",
   "pygments_lexer": "ipython3",
   "version": "3.12.3"
  }
 },
 "nbformat": 4,
 "nbformat_minor": 5
}
