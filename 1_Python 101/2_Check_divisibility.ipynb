{
 "cells": [
  {
   "cell_type": "markdown",
   "id": "challenge-description",
   "metadata": {},
   "source": [
    "# Challenge - Check divisibility\n",
    "\n",
    "## Background and Objectives\n",
    "- Validate once more your understanding of methods and variables.\n",
    "- Using the modulo operator\n",
    "\n",
    "## Specs\n",
    "\n",
    "### Check divisibility\n",
    "Write a Python function called  that takes three numbers as input: , , and . The function should return  if  is divisible by both  and , and  otherwise.\n",
    "\n",
    "**Limitation**: , , and  will only be positive integers.\n",
    "\n",
    "## Key Learning Points\n",
    "\n",
    "### On modulo\n",
    "- What is modulo and how is it used?\n",
    "\n",
    "### On integers\n",
    "- What is an integer?"
   ]
  },
  {
   "cell_type": "code",
   "execution_count": 1,
   "id": "check-divisibility",
   "metadata": {},
   "outputs": [],
   "source": [
    "# Implement your check_divisibility method below:\n",
    "def check_divisibility(num, a, b):\n",
    "    return num % a == 0 and num % b == 0"
   ]
  }
 ],
 "metadata": {
  "kernelspec": {
   "display_name": "base",
   "language": "python",
   "name": "python3"
  },
  "language_info": {
   "codemirror_mode": {
    "name": "ipython",
    "version": 3
   },
   "file_extension": ".py",
   "mimetype": "text/x-python",
   "name": "python",
   "nbconvert_exporter": "python",
   "pygments_lexer": "ipython3",
   "version": "3.12.2"
  }
 },
 "nbformat": 4,
 "nbformat_minor": 5
}
