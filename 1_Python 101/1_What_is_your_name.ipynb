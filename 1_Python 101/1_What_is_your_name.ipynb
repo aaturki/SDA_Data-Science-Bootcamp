{
 "cells": [
  {
   "cell_type": "markdown",
   "id": "27c805eb",
   "metadata": {},
   "source": [
    "## Instructions\n",
    "\n",
    "### Background and Objectives\n",
    "- Validate your understanding of methods and variables.\n",
    "- Learn how to use string interpolation and string methods.\n",
    "\n",
    "### Specs\n",
    "\n",
    "#### Compute name\n",
    "- Implement a `compute_name` function on line 2.\n",
    "- Given `first_name`, `middle_name`, and `last_name`, it should return the full name.\n",
    "- **Constraint**: Use string interpolation with an f-string: `f\"{...}\"`.\n",
    "\n",
    "Example:\n",
    "```python\n",
    "def compute_name(first_name, middle_name, last_name):\n",
    "    return f\"{first_name} {middle_name} {last_name}\"\n",
    "```\n",
    "\n",
    "### Key Learning Points\n",
    "\n",
    "#### On variables\n",
    "- **What are the variables in your code?**\n",
    "- **Where do you assign values to these variables and where do you use them?**\n",
    "- **What’s the scope of a variable?**\n",
    "\n",
    "#### On functions\n",
    "- **What is the function of your program? Where do you define it?**\n",
    "- **Where do you call this method and with which arguments?**\n",
    "- **What’s the flow of your program when you read it line by line?**\n",
    "\n",
    "#### On strings\n",
    "- **What’s string interpolation?** In Python, inserting expressions inside a string using f-strings.\n",
    "- **What’s the syntax to insert a Python expression in a string?** Use `f\"... {expression} ...\"`; e.g., `f\"{first} {last}\"`. \n"
   ]
  },
  {
   "cell_type": "code",
   "execution_count": 1,
   "id": "343ff892",
   "metadata": {},
   "outputs": [],
   "source": [
    "def compute_name(first_name, middle_name, last_name):\n",
    "    return f\"{first_name} {middle_name} {last_name}\""
   ]
  }
 ],
 "metadata": {
  "kernelspec": {
   "display_name": "base",
   "language": "python",
   "name": "python3"
  },
  "language_info": {
   "codemirror_mode": {
    "name": "ipython",
    "version": 3
   },
   "file_extension": ".py",
   "mimetype": "text/x-python",
   "name": "python",
   "nbconvert_exporter": "python",
   "pygments_lexer": "ipython3",
   "version": "3.12.2"
  }
 },
 "nbformat": 4,
 "nbformat_minor": 5
}
